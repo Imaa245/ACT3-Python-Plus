{
 "cells": [
  {
   "cell_type": "code",
   "execution_count": 6,
   "metadata": {},
   "outputs": [],
   "source": [
    "import csv\n",
    "\n",
    "read_dataset = 'Conectividad_Internet.csv'\n",
    "write_dataset = 'Conectividad_Internet_proc2.csv'\n",
    "\n",
    "\n",
    "def check_connect(line_proc):\n",
    "    if (line_proc['FIBRAOPTICA'] == '--'):\n",
    "        line_proc['posee_conectividad'] = 'NO'\n",
    "    else:\n",
    "        line_proc['posee_conectividad'] = 'SI'\n",
    "    return line_proc\n",
    "\n",
    "\n",
    "try:\n",
    "    with open(read_dataset, mode='r', encoding='utf-8') as read_file:\n",
    "        try:\n",
    "            write_file = open(write_dataset, mode='w', encoding='utf-8')\n",
    "            reader = csv.DictReader(read_file)\n",
    "            \n",
    "            fieldnames = reader.fieldnames + ['posee_conectividad']\n",
    "            writer = csv.DictWriter(write_file, fieldnames=fieldnames)\n",
    "            writer.writeheader()\n",
    "\n",
    "            for line in reader:\n",
    "                line = check_connect(line)\n",
    "                writer.writerow(line)\n",
    "        except csv.Error as e:\n",
    "            print(f\"Error al procesar el archivo CSV: {e}\")\n",
    "except FileNotFoundError:\n",
    "    print(f'El archivo {read_dataset} no se encontró')\n",
    "\n",
    "write_file.close()"
   ]
  }
 ],
 "metadata": {
  "kernelspec": {
   "display_name": "Python 3",
   "language": "python",
   "name": "python3"
  },
  "language_info": {
   "codemirror_mode": {
    "name": "ipython",
    "version": 3
   },
   "file_extension": ".py",
   "mimetype": "text/x-python",
   "name": "python",
   "nbconvert_exporter": "python",
   "pygments_lexer": "ipython3",
   "version": "3.11.9"
  }
 },
 "nbformat": 4,
 "nbformat_minor": 2
}
